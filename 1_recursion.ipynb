{
 "cells": [
  {
   "cell_type": "markdown",
   "id": "f6de5c30-4f52-44dc-92e2-252d75a6887e",
   "metadata": {},
   "source": [
    "# A. The Tower of Hanoi"
   ]
  },
  {
   "cell_type": "code",
   "execution_count": null,
   "id": "e30b3632-78fa-4a7d-9ac9-11cc9d181645",
   "metadata": {},
   "outputs": [],
   "source": []
  },
  {
   "cell_type": "markdown",
   "id": "332f9fe9-b06c-4904-b32e-aaecd73c66af",
   "metadata": {},
   "source": [
    "# B. Triangular Numbers"
   ]
  },
  {
   "cell_type": "code",
   "execution_count": null,
   "id": "d6f7b378-a731-4675-8b59-693abd43885f",
   "metadata": {},
   "outputs": [],
   "source": []
  },
  {
   "cell_type": "markdown",
   "id": "bf571ad1-b96c-4915-9f4b-317e0bd86a2e",
   "metadata": {},
   "source": [
    "# C. The Josephus Problem"
   ]
  },
  {
   "cell_type": "code",
   "execution_count": null,
   "id": "95eff1b9-86e7-41a3-8ad1-3edd4b45aea2",
   "metadata": {},
   "outputs": [],
   "source": []
  },
  {
   "cell_type": "markdown",
   "id": "35bd64ff-6eff-4c23-89f9-1319fead695a",
   "metadata": {},
   "source": [
    "# D. Quicksort"
   ]
  },
  {
   "cell_type": "code",
   "execution_count": null,
   "id": "b25c8909-75b6-4638-b979-b0c23948dd3c",
   "metadata": {},
   "outputs": [],
   "source": []
  },
  {
   "cell_type": "markdown",
   "id": "d316e2e0-9718-40b6-b2aa-7dfbd86c5748",
   "metadata": {},
   "source": [
    "# E. Notation"
   ]
  },
  {
   "cell_type": "code",
   "execution_count": null,
   "id": "ea251c8c-799d-4a70-93c9-3223f858240f",
   "metadata": {},
   "outputs": [],
   "source": []
  }
 ],
 "metadata": {
  "kernelspec": {
   "display_name": "Dyalog APL",
   "language": "apl",
   "name": "dyalog_apl"
  },
  "language_info": {
   "file_extension": ".apl",
   "mimetype": "text/apl",
   "name": "APL"
  }
 },
 "nbformat": 4,
 "nbformat_minor": 5
}
