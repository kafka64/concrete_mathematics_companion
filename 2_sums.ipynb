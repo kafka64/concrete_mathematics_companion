{
 "cells": [
  {
   "cell_type": "markdown",
   "id": "5dc55f9c-9d2d-4c6c-b0bb-94cda26a386d",
   "metadata": {},
   "source": [
    "# A. Notation"
   ]
  },
  {
   "cell_type": "code",
   "execution_count": null,
   "id": "864f330a-1397-4b5d-b172-8d3305445d58",
   "metadata": {},
   "outputs": [],
   "source": []
  }
 ],
 "metadata": {
  "kernelspec": {
   "display_name": "Dyalog APL",
   "language": "apl",
   "name": "dyalog_apl"
  },
  "language_info": {
   "file_extension": ".apl",
   "mimetype": "text/apl",
   "name": "APL"
  }
 },
 "nbformat": 4,
 "nbformat_minor": 5
}
