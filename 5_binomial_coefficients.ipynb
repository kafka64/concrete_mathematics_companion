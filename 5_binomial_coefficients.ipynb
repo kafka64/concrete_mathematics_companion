{
 "cells": [
  {
   "cell_type": "code",
   "execution_count": null,
   "id": "4c695f50-b6cb-4650-b41e-fdede79bf3bc",
   "metadata": {},
   "outputs": [],
   "source": []
  }
 ],
 "metadata": {
  "kernelspec": {
   "display_name": "Dyalog APL",
   "language": "apl",
   "name": "dyalog_apl"
  },
  "language_info": {
   "file_extension": ".apl",
   "mimetype": "text/apl",
   "name": "APL"
  }
 },
 "nbformat": 4,
 "nbformat_minor": 5
}
